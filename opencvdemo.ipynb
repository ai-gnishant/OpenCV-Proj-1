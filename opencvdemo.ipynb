{
 "cells": [
  {
   "cell_type": "code",
   "execution_count": 1,
   "id": "3da7f28e",
   "metadata": {},
   "outputs": [],
   "source": [
    "import cv2"
   ]
  },
  {
   "cell_type": "code",
   "execution_count": 2,
   "id": "82157b9a",
   "metadata": {},
   "outputs": [
    {
     "data": {
      "text/plain": [
       "array([[[ 2, 16, 15],\n",
       "        [ 2, 16, 15],\n",
       "        [ 2, 16, 15],\n",
       "        ...,\n",
       "        [ 1,  9,  9],\n",
       "        [ 1,  9,  9],\n",
       "        [ 1,  9,  9]],\n",
       "\n",
       "       [[ 3, 17, 16],\n",
       "        [ 3, 17, 16],\n",
       "        [ 3, 17, 16],\n",
       "        ...,\n",
       "        [ 0,  8,  8],\n",
       "        [ 1,  9,  9],\n",
       "        [ 1,  9,  9]],\n",
       "\n",
       "       [[ 3, 17, 16],\n",
       "        [ 3, 17, 16],\n",
       "        [ 3, 17, 16],\n",
       "        ...,\n",
       "        [ 0,  8,  8],\n",
       "        [ 0,  8,  8],\n",
       "        [ 0,  8,  8]],\n",
       "\n",
       "       ...,\n",
       "\n",
       "       [[ 1, 10, 13],\n",
       "        [ 0,  9, 12],\n",
       "        [ 0,  9, 12],\n",
       "        ...,\n",
       "        [ 5, 24, 29],\n",
       "        [ 5, 24, 29],\n",
       "        [ 5, 24, 29]],\n",
       "\n",
       "       [[ 2, 11, 14],\n",
       "        [ 1, 10, 13],\n",
       "        [ 0,  9, 12],\n",
       "        ...,\n",
       "        [ 5, 24, 29],\n",
       "        [ 5, 24, 29],\n",
       "        [ 5, 24, 29]],\n",
       "\n",
       "       [[ 4, 13, 16],\n",
       "        [ 2, 11, 14],\n",
       "        [ 0,  9, 12],\n",
       "        ...,\n",
       "        [ 6, 25, 30],\n",
       "        [ 6, 25, 30],\n",
       "        [ 6, 25, 30]]], shape=(8304, 6228, 3), dtype=uint8)"
      ]
     },
     "execution_count": 2,
     "metadata": {},
     "output_type": "execute_result"
    }
   ],
   "source": [
    "cv2.imread(\"nish.jpg\")"
   ]
  },
  {
   "cell_type": "code",
   "execution_count": 3,
   "id": "0615d472",
   "metadata": {},
   "outputs": [],
   "source": [
    "img = cv2.imread(\"nish.jpg\")"
   ]
  },
  {
   "cell_type": "code",
   "execution_count": 4,
   "id": "834ddd95",
   "metadata": {},
   "outputs": [
    {
     "data": {
      "text/plain": [
       "array([[[15, 16,  2],\n",
       "        [15, 16,  2],\n",
       "        [15, 16,  2],\n",
       "        ...,\n",
       "        [ 9,  9,  1],\n",
       "        [ 9,  9,  1],\n",
       "        [ 9,  9,  1]],\n",
       "\n",
       "       [[16, 17,  3],\n",
       "        [16, 17,  3],\n",
       "        [16, 17,  3],\n",
       "        ...,\n",
       "        [ 8,  8,  0],\n",
       "        [ 9,  9,  1],\n",
       "        [ 9,  9,  1]],\n",
       "\n",
       "       [[16, 17,  3],\n",
       "        [16, 17,  3],\n",
       "        [16, 17,  3],\n",
       "        ...,\n",
       "        [ 8,  8,  0],\n",
       "        [ 8,  8,  0],\n",
       "        [ 8,  8,  0]],\n",
       "\n",
       "       ...,\n",
       "\n",
       "       [[13, 10,  1],\n",
       "        [12,  9,  0],\n",
       "        [12,  9,  0],\n",
       "        ...,\n",
       "        [29, 24,  5],\n",
       "        [29, 24,  5],\n",
       "        [29, 24,  5]],\n",
       "\n",
       "       [[14, 11,  2],\n",
       "        [13, 10,  1],\n",
       "        [12,  9,  0],\n",
       "        ...,\n",
       "        [29, 24,  5],\n",
       "        [29, 24,  5],\n",
       "        [29, 24,  5]],\n",
       "\n",
       "       [[16, 13,  4],\n",
       "        [14, 11,  2],\n",
       "        [12,  9,  0],\n",
       "        ...,\n",
       "        [30, 25,  6],\n",
       "        [30, 25,  6],\n",
       "        [30, 25,  6]]], shape=(8304, 6228, 3), dtype=uint8)"
      ]
     },
     "execution_count": 4,
     "metadata": {},
     "output_type": "execute_result"
    }
   ],
   "source": [
    "cv2.cvtColor(img, cv2.COLOR_BGR2RGB)"
   ]
  },
  {
   "cell_type": "code",
   "execution_count": 5,
   "id": "7209329d",
   "metadata": {},
   "outputs": [
    {
     "data": {
      "text/plain": [
       "(8304, 6228, 3)"
      ]
     },
     "execution_count": 5,
     "metadata": {},
     "output_type": "execute_result"
    }
   ],
   "source": [
    "img.shape"
   ]
  },
  {
   "cell_type": "code",
   "execution_count": 6,
   "id": "eb8edd68",
   "metadata": {},
   "outputs": [],
   "source": [
    "resize1 = cv2.resize(img, (300, 300))"
   ]
  },
  {
   "cell_type": "code",
   "execution_count": null,
   "id": "a1de62f7",
   "metadata": {},
   "outputs": [],
   "source": [
    "# cv2.imshow(\"resize\", resize1)\n",
    "# cv2.waitKey(0)\n",
    "# cv2.destroyAllWindows()"
   ]
  },
  {
   "cell_type": "code",
   "execution_count": null,
   "id": "7c920381",
   "metadata": {},
   "outputs": [],
   "source": []
  }
 ],
 "metadata": {
  "kernelspec": {
   "display_name": "opencv",
   "language": "python",
   "name": "python3"
  },
  "language_info": {
   "codemirror_mode": {
    "name": "ipython",
    "version": 3
   },
   "file_extension": ".py",
   "mimetype": "text/x-python",
   "name": "python",
   "nbconvert_exporter": "python",
   "pygments_lexer": "ipython3",
   "version": "3.12.1"
  }
 },
 "nbformat": 4,
 "nbformat_minor": 5
}
